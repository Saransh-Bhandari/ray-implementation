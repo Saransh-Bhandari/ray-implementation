{
 "cells": [
  {
   "cell_type": "markdown",
   "id": "4d4c74b8-1b07-49f8-8b5a-72a5ee920a7c",
   "metadata": {},
   "source": [
    "Get the data from binance api using binance personal keys.\n",
    "Start date = T(Current time) - 5years\n",
    "End date = T(Current time)"
   ]
  },
  {
   "cell_type": "code",
   "execution_count": null,
   "id": "eeb59803-2678-44f7-a1b5-bb275bf92410",
   "metadata": {},
   "outputs": [],
   "source": [
    "import pandas as pd\n",
    "import datetime as dt\n",
    "import requests\n",
    "import json\n",
    "import time\n",
    "import datetime\n",
    "\n",
    "\n",
    "api_key = 'key' \n",
    "api_secret = 'secret key'\n",
    "\n",
    "\n",
    "end_time = datetime.datetime.now()\n",
    "start_time = end_time - datetime.timedelta(days=365*5)\n",
    "start_timestamp = int(start_time.timestamp() * 1000)\n",
    "end_timestamp = int(end_time.timestamp() * 1000)\n",
    "\n",
    "\n",
    "endpoint = 'https://api.binance.com/api/v3/klines'\n",
    "\n",
    "\n",
    "symbol = 'BTCUSDT'\n",
    "interval = '15m'\n",
    "limit = 1000\n",
    "params = {'symbol': symbol, 'interval': interval, 'startTime': start_timestamp, 'endTime': end_timestamp, 'limit': limit}\n",
    "\n",
    "\n",
    "data = []\n",
    "\n",
    "\n",
    "while True:\n",
    "\n",
    "\n",
    "    response = requests.get(endpoint, params=params)\n",
    "    klines = json.loads(response.text)\n",
    "    data += klines\n",
    "\n",
    "\n",
    "    if len(klines) < limit:\n",
    "        break\n",
    "\n",
    "    \n",
    "    params['startTime'] = int(klines[-1][0]) + 1\n",
    "    time.sleep(0.1)\n",
    "\n",
    "\n",
    "ohlc_data = [[float(kline[1]), float(kline[2]), float(kline[3]), float(kline[4])] for kline in data]\n",
    "df = pd.DataFrame(ohlc_data, columns=['Open', 'High', 'Low', 'Close'])\n",
    "timestamps = [datetime.datetime.fromtimestamp(int(kline[0]) / 1000) for kline in data]\n",
    "df['Timestamp'] = timestamps\n",
    "df.set_index('Timestamp', inplace=True)\n",
    "print(df.shape)\n",
    "df = df.drop(['Open' , 'High' , 'Low'] , axis=1)\n",
    "df.to_csv('bitcoin.csv')"
   ]
  },
  {
   "cell_type": "markdown",
   "id": "bd1e7ced-35a9-44ab-b10d-a80581733ecd",
   "metadata": {},
   "source": [
    "Import required modules for normal pandas"
   ]
  },
  {
   "cell_type": "code",
   "execution_count": 1,
   "id": "1a307e46-4377-4529-a0d7-2b28a94e6132",
   "metadata": {},
   "outputs": [],
   "source": [
    "import pandas as pd\n",
    "import numpy as np\n",
    "import plotly.graph_objects as go\n",
    "import matplotlib.pyplot as plt\n",
    "import time"
   ]
  },
  {
   "cell_type": "markdown",
   "id": "cb1c3aea-8ba0-468a-aa18-78cab74f879b",
   "metadata": {},
   "source": [
    "Calculate the time taken by normal pandas module to find the time interval for 100% profit ( Linear search )"
   ]
  },
  {
   "cell_type": "code",
   "execution_count": 2,
   "id": "1d071546-c658-4c18-91bb-0836896f80fa",
   "metadata": {},
   "outputs": [
    {
     "name": "stdout",
     "output_type": "stream",
     "text": [
      "Average holding period (days) \n",
      "770.8585858585859\n"
     ]
    }
   ],
   "source": [
    "df = pd.read_csv('bitcoin.csv')\n",
    "df.Timestamp = pd.to_datetime(df.Timestamp)\n",
    "df.sort_values('Timestamp')\n",
    "\n",
    "\n",
    "start_time_normal = time.time()\n",
    "\n",
    "\n",
    "temp_dic = {}\n",
    "entry = [] \n",
    "entry_price=[]\n",
    "exit=[]\n",
    "exit_price=[]\n",
    "\n",
    "\n",
    "for i in range(len(df)):\n",
    "    x = int(df.iloc[i , 1])\n",
    "    if (x//2) in temp_dic:\n",
    "        entry.append(temp_dic[int(x/2)])\n",
    "        entry_price.append(x//2)\n",
    "        exit.append(df.iloc[i,0])\n",
    "        exit_price.append(x)\n",
    "    temp_dic[x] = df.iloc[i,0]\n",
    "\n",
    "ans_normal = {\n",
    "    'entry':entry,\n",
    "    'entry_price':entry_price,\n",
    "    'exit':exit,\n",
    "    'exit_price':exit_price\n",
    "      }\n",
    "\n",
    "\n",
    "ans_normal = pd.DataFrame(ans_normal)\n",
    "\n",
    "\n",
    "x = ans_normal.assign(\n",
    "    holding_period = (ans_normal.exit - ans_normal.entry)\n",
    ")['holding_period']\n",
    "print('Average holding period (days) ')\n",
    "print(sum(x.apply(lambda x: x.days))/len(x))\n",
    "\n",
    "\n",
    "end_time_normal = time.time()"
   ]
  },
  {
   "cell_type": "markdown",
   "id": "bf8401b1-a551-4a90-8b5b-d540b7354424",
   "metadata": {},
   "source": [
    "Calculate the time taken by ray pandas module to find the time interval for 100% profit ( Linear search )"
   ]
  },
  {
   "cell_type": "code",
   "execution_count": 3,
   "id": "98bd3c63-6962-4551-8db4-54e58c514eff",
   "metadata": {},
   "outputs": [
    {
     "name": "stderr",
     "output_type": "stream",
     "text": [
      "2024-02-06 19:13:48,075\tINFO util.py:154 -- Outdated packages:\n",
      "  ipywidgets==7.8.1 found, needs ipywidgets>=8\n",
      "Run `pip install -U ipywidgets`, then restart the notebook server for rich notebook output.\n",
      "2024-02-06 19:13:48,094\tINFO worker.py:1540 -- Connecting to existing Ray cluster at address: 192.168.10.147:6379...\n",
      "2024-02-06 19:13:48,135\tINFO worker.py:1724 -- Connected to Ray cluster.\n",
      "UserWarning: When using a pre-initialized Ray cluster, please ensure that the runtime env sets environment variable __MODIN_AUTOIMPORT_PANDAS__ to 1\n"
     ]
    },
    {
     "name": "stdout",
     "output_type": "stream",
     "text": [
      "Average holding period (days) \n",
      "770.8585858585859\n"
     ]
    },
    {
     "name": "stderr",
     "output_type": "stream",
     "text": [
      "UserWarning: Distributing <class 'dict'> object. This may take some time.\n"
     ]
    }
   ],
   "source": [
    "import modin.pandas as pd\n",
    "import ray\n",
    "\n",
    "ray.shutdown()\n",
    "ray.init()\n",
    "\n",
    "\n",
    "df = pd.read_csv('bitcoin.csv')\n",
    "df.Timestamp = pd.to_datetime(df.Timestamp)\n",
    "df.sort_values('Timestamp')\n",
    "\n",
    "\n",
    "start_time_ray = time.time()\n",
    "\n",
    "\n",
    "temp_dic = {}\n",
    "entry = [] \n",
    "entry_price=[]\n",
    "exit=[]\n",
    "exit_price=[]\n",
    "\n",
    "\n",
    "for i in range(len(df)):\n",
    "    x = int(df.iloc[i , 1])\n",
    "    if (x//2) in temp_dic:\n",
    "        entry.append(temp_dic[int(x/2)])\n",
    "        entry_price.append(x//2)\n",
    "        exit.append(df.iloc[i,0])\n",
    "        exit_price.append(x)\n",
    "    temp_dic[x] = df.iloc[i,0]\n",
    "\n",
    "ans_ray = {\n",
    "    'entry':entry,\n",
    "    'entry_price':entry_price,\n",
    "    'exit':exit,\n",
    "    'exit_price':exit_price\n",
    "      }\n",
    "\n",
    "\n",
    "ans_ray = pd.DataFrame(ans_ray)\n",
    "\n",
    "\n",
    "x = ans_ray.assign(\n",
    "    holding_period = (ans_ray.exit - ans_ray.entry)\n",
    ")['holding_period']\n",
    "print('Average holding period (days) ')\n",
    "print(sum(x.apply(lambda x: x.days))/len(x))\n",
    "\n",
    "\n",
    "end_time_ray = time.time()"
   ]
  },
  {
   "cell_type": "markdown",
   "id": "39a8a5fa-8289-4770-98c5-6e291f18101b",
   "metadata": {},
   "source": [
    "Compare the time taken by both modules"
   ]
  },
  {
   "cell_type": "code",
   "execution_count": 4,
   "id": "b7065868-3180-489b-b8b3-50afaf5f21f7",
   "metadata": {},
   "outputs": [
    {
     "name": "stdout",
     "output_type": "stream",
     "text": [
      "Time taken for normal pandas (seconds)\n",
      "0.12007308006286621\n"
     ]
    }
   ],
   "source": [
    "print(\"Time taken for normal pandas (seconds)\")\n",
    "print(end_time_normal - start_time_normal)"
   ]
  },
  {
   "cell_type": "code",
   "execution_count": 5,
   "id": "92bae29d-bff5-4744-963e-17a97a3eccb9",
   "metadata": {},
   "outputs": [
    {
     "name": "stdout",
     "output_type": "stream",
     "text": [
      "Time taken for ray pandas\n",
      "20.83701467514038\n"
     ]
    }
   ],
   "source": [
    "print(\"Time taken for ray pandas\")\n",
    "print(end_time_ray - start_time_ray)"
   ]
  },
  {
   "cell_type": "markdown",
   "id": "5ac7a748-239b-45ec-9640-1e22ae95b36f",
   "metadata": {},
   "source": [
    "Check if the answer achieved by both modules are same"
   ]
  },
  {
   "cell_type": "code",
   "execution_count": 6,
   "id": "330dd178-02a9-4641-bf07-f2faf214c75d",
   "metadata": {},
   "outputs": [
    {
     "name": "stdout",
     "output_type": "stream",
     "text": [
      "0\n"
     ]
    }
   ],
   "source": [
    "print((ans_normal.values != ans_ray.values).sum())"
   ]
  },
  {
   "cell_type": "code",
   "execution_count": null,
   "id": "4a373911-f8c4-4d15-94ee-d521880c9112",
   "metadata": {},
   "outputs": [],
   "source": []
  },
  {
   "cell_type": "code",
   "execution_count": 7,
   "id": "dba0fe24-c4ce-451e-9eca-7dcf5124e86b",
   "metadata": {},
   "outputs": [
    {
     "data": {
      "text/html": [
       "<div>\n",
       "<style scoped>\n",
       "    .dataframe tbody tr th:only-of-type {\n",
       "        vertical-align: middle;\n",
       "    }\n",
       "\n",
       "    .dataframe tbody tr th {\n",
       "        vertical-align: top;\n",
       "    }\n",
       "\n",
       "    .dataframe thead th {\n",
       "        text-align: right;\n",
       "    }\n",
       "</style>\n",
       "<table border=\"1\" class=\"dataframe\">\n",
       "  <thead>\n",
       "    <tr style=\"text-align: right;\">\n",
       "      <th></th>\n",
       "      <th>entry</th>\n",
       "      <th>entry_price</th>\n",
       "      <th>exit</th>\n",
       "      <th>exit_price</th>\n",
       "    </tr>\n",
       "  </thead>\n",
       "  <tbody>\n",
       "    <tr>\n",
       "      <th>0</th>\n",
       "      <td>2017-08-31 05:30:00</td>\n",
       "      <td>4724</td>\n",
       "      <td>2018-02-14 05:30:00</td>\n",
       "      <td>9449</td>\n",
       "    </tr>\n",
       "    <tr>\n",
       "      <th>1</th>\n",
       "      <td>2017-09-10 05:30:00</td>\n",
       "      <td>4130</td>\n",
       "      <td>2018-03-16 05:30:00</td>\n",
       "      <td>8260</td>\n",
       "    </tr>\n",
       "    <tr>\n",
       "      <th>2</th>\n",
       "      <td>2017-08-20 05:30:00</td>\n",
       "      <td>4086</td>\n",
       "      <td>2018-04-18 05:30:00</td>\n",
       "      <td>8173</td>\n",
       "    </tr>\n",
       "    <tr>\n",
       "      <th>3</th>\n",
       "      <td>2017-08-19 05:30:00</td>\n",
       "      <td>4139</td>\n",
       "      <td>2018-04-19 05:30:00</td>\n",
       "      <td>8278</td>\n",
       "    </tr>\n",
       "    <tr>\n",
       "      <th>4</th>\n",
       "      <td>2017-09-14 05:30:00</td>\n",
       "      <td>3189</td>\n",
       "      <td>2018-07-11 05:30:00</td>\n",
       "      <td>6378</td>\n",
       "    </tr>\n",
       "  </tbody>\n",
       "</table>\n",
       "</div>"
      ],
      "text/plain": [
       "                entry  entry_price                exit  exit_price\n",
       "0 2017-08-31 05:30:00         4724 2018-02-14 05:30:00        9449\n",
       "1 2017-09-10 05:30:00         4130 2018-03-16 05:30:00        8260\n",
       "2 2017-08-20 05:30:00         4086 2018-04-18 05:30:00        8173\n",
       "3 2017-08-19 05:30:00         4139 2018-04-19 05:30:00        8278\n",
       "4 2017-09-14 05:30:00         3189 2018-07-11 05:30:00        6378"
      ]
     },
     "execution_count": 7,
     "metadata": {},
     "output_type": "execute_result"
    }
   ],
   "source": [
    "import pandas as pd\n",
    "final = pd.DataFrame(ans_normal)\n",
    "final.head()"
   ]
  },
  {
   "cell_type": "code",
   "execution_count": 8,
   "id": "b26e47de-7768-4319-8f69-e69a335a2d90",
   "metadata": {},
   "outputs": [
    {
     "name": "stdout",
     "output_type": "stream",
     "text": [
      " There were total 99 opportunity to make 100% profit in the span of 2365 days\n"
     ]
    }
   ],
   "source": [
    "print(f' There were total {len(final)} opportunity to make 100% profit in the span of {len(df)} days')"
   ]
  },
  {
   "cell_type": "code",
   "execution_count": 9,
   "id": "08cdd20f-19ad-41bc-9957-3458c461783b",
   "metadata": {},
   "outputs": [
    {
     "name": "stdout",
     "output_type": "stream",
     "text": [
      "The last opportunity to make 100% profit was on 2023-02-04 05:30:00\n"
     ]
    }
   ],
   "source": [
    "print(f'The last opportunity to make 100% profit was on {final.iloc[-1 , 0]}')"
   ]
  },
  {
   "cell_type": "code",
   "execution_count": 10,
   "id": "512d212f-54e7-4eca-92cf-32652f109779",
   "metadata": {},
   "outputs": [
    {
     "name": "stdout",
     "output_type": "stream",
     "text": [
      "Average holding period (days) \n",
      "770.8585858585859\n"
     ]
    }
   ],
   "source": [
    "x = final.assign(\n",
    "    holding_period = (final.exit - final.entry)\n",
    ")['holding_period']\n",
    "print('Average holding period (days) ')\n",
    "print(sum(x.apply(lambda x: x.days))/len(x))"
   ]
  },
  {
   "cell_type": "code",
   "execution_count": 12,
   "id": "b7fcede2-33f9-4014-9f6b-0df771f968cf",
   "metadata": {},
   "outputs": [],
   "source": []
  },
  {
   "cell_type": "code",
   "execution_count": 16,
   "id": "1451ee33-f233-447b-9af9-0327b6ed9809",
   "metadata": {},
   "outputs": [
    {
     "name": "stderr",
     "output_type": "stream",
     "text": [
      "UserWarning: `DataFrame.groupby_on_multiple_columns` is not currently supported by PandasOnRay, defaulting to pandas implementation.\n",
      "UserWarning: Distributing <class 'pandas.core.frame.DataFrame'> object. This may take some time.\n"
     ]
    },
    {
     "data": {
      "text/html": [
       "<div>\n",
       "<style scoped>\n",
       "    .dataframe tbody tr th:only-of-type {\n",
       "        vertical-align: middle;\n",
       "    }\n",
       "\n",
       "    .dataframe tbody tr th {\n",
       "        vertical-align: top;\n",
       "    }\n",
       "\n",
       "    .dataframe thead tr th {\n",
       "        text-align: left;\n",
       "    }\n",
       "\n",
       "    .dataframe thead tr:last-of-type th {\n",
       "        text-align: right;\n",
       "    }\n",
       "</style>\n",
       "<table border=\"1\" class=\"dataframe\">\n",
       "  <thead>\n",
       "    <tr>\n",
       "      <th></th>\n",
       "      <th colspan=\"8\" halign=\"left\">Close</th>\n",
       "    </tr>\n",
       "    <tr>\n",
       "      <th></th>\n",
       "      <th>count</th>\n",
       "      <th>mean</th>\n",
       "      <th>std</th>\n",
       "      <th>min</th>\n",
       "      <th>25%</th>\n",
       "      <th>50%</th>\n",
       "      <th>75%</th>\n",
       "      <th>max</th>\n",
       "    </tr>\n",
       "    <tr>\n",
       "      <th>Timestamp</th>\n",
       "      <th></th>\n",
       "      <th></th>\n",
       "      <th></th>\n",
       "      <th></th>\n",
       "      <th></th>\n",
       "      <th></th>\n",
       "      <th></th>\n",
       "      <th></th>\n",
       "    </tr>\n",
       "  </thead>\n",
       "  <tbody>\n",
       "    <tr>\n",
       "      <th>2017-08</th>\n",
       "      <td>15.0</td>\n",
       "      <td>4285.871333</td>\n",
       "      <td>211.456918</td>\n",
       "      <td>4016.00</td>\n",
       "      <td>4111.1900</td>\n",
       "      <td>4285.080</td>\n",
       "      <td>4362.0650</td>\n",
       "      <td>4724.89</td>\n",
       "    </tr>\n",
       "    <tr>\n",
       "      <th>2017-09</th>\n",
       "      <td>30.0</td>\n",
       "      <td>4070.054667</td>\n",
       "      <td>369.307493</td>\n",
       "      <td>3189.02</td>\n",
       "      <td>3805.5875</td>\n",
       "      <td>4115.240</td>\n",
       "      <td>4276.8025</td>\n",
       "      <td>4834.91</td>\n",
       "    </tr>\n",
       "    <tr>\n",
       "      <th>2017-10</th>\n",
       "      <td>31.0</td>\n",
       "      <td>5347.598387</td>\n",
       "      <td>689.814611</td>\n",
       "      <td>4208.59</td>\n",
       "      <td>4711.5300</td>\n",
       "      <td>5649.980</td>\n",
       "      <td>5865.8800</td>\n",
       "      <td>6463.00</td>\n",
       "    </tr>\n",
       "    <tr>\n",
       "      <th>2017-11</th>\n",
       "      <td>30.0</td>\n",
       "      <td>7726.769000</td>\n",
       "      <td>1096.261480</td>\n",
       "      <td>5811.03</td>\n",
       "      <td>7030.9950</td>\n",
       "      <td>7528.140</td>\n",
       "      <td>8188.9400</td>\n",
       "      <td>9896.80</td>\n",
       "    </tr>\n",
       "    <tr>\n",
       "      <th>2017-12</th>\n",
       "      <td>31.0</td>\n",
       "      <td>14849.569032</td>\n",
       "      <td>2340.810634</td>\n",
       "      <td>10782.99</td>\n",
       "      <td>13413.3050</td>\n",
       "      <td>14899.980</td>\n",
       "      <td>16419.4850</td>\n",
       "      <td>19102.66</td>\n",
       "    </tr>\n",
       "    <tr>\n",
       "      <th>...</th>\n",
       "      <td>...</td>\n",
       "      <td>...</td>\n",
       "      <td>...</td>\n",
       "      <td>...</td>\n",
       "      <td>...</td>\n",
       "      <td>...</td>\n",
       "      <td>...</td>\n",
       "      <td>...</td>\n",
       "    </tr>\n",
       "    <tr>\n",
       "      <th>2023-10</th>\n",
       "      <td>31.0</td>\n",
       "      <td>29746.673226</td>\n",
       "      <td>2975.599522</td>\n",
       "      <td>26759.63</td>\n",
       "      <td>27460.4850</td>\n",
       "      <td>28320.000</td>\n",
       "      <td>33481.0050</td>\n",
       "      <td>34639.77</td>\n",
       "    </tr>\n",
       "    <tr>\n",
       "      <th>2023-11</th>\n",
       "      <td>30.0</td>\n",
       "      <td>36582.437667</td>\n",
       "      <td>1058.994200</td>\n",
       "      <td>34716.78</td>\n",
       "      <td>35569.5725</td>\n",
       "      <td>36882.610</td>\n",
       "      <td>37437.6575</td>\n",
       "      <td>37858.20</td>\n",
       "    </tr>\n",
       "    <tr>\n",
       "      <th>2023-12</th>\n",
       "      <td>31.0</td>\n",
       "      <td>42542.104516</td>\n",
       "      <td>1356.454585</td>\n",
       "      <td>38682.52</td>\n",
       "      <td>42029.0250</td>\n",
       "      <td>42657.800</td>\n",
       "      <td>43685.5450</td>\n",
       "      <td>44170.99</td>\n",
       "    </tr>\n",
       "    <tr>\n",
       "      <th>2024-01</th>\n",
       "      <td>31.0</td>\n",
       "      <td>42921.972258</td>\n",
       "      <td>1932.521584</td>\n",
       "      <td>39568.02</td>\n",
       "      <td>41714.1950</td>\n",
       "      <td>42782.730</td>\n",
       "      <td>44056.7150</td>\n",
       "      <td>46951.04</td>\n",
       "    </tr>\n",
       "    <tr>\n",
       "      <th>2024-02</th>\n",
       "      <td>6.0</td>\n",
       "      <td>42946.913333</td>\n",
       "      <td>244.183827</td>\n",
       "      <td>42582.88</td>\n",
       "      <td>42784.2975</td>\n",
       "      <td>43047.015</td>\n",
       "      <td>43092.6375</td>\n",
       "      <td>43200.00</td>\n",
       "    </tr>\n",
       "  </tbody>\n",
       "</table>\n",
       "<p>79 rows x 8 columns</p>\n",
       "</div>"
      ],
      "text/plain": [
       "          Close                                                              \\\n",
       "          count          mean          std       min         25%        50%   \n",
       "Timestamp                                                                     \n",
       "2017-08    15.0   4285.871333   211.456918   4016.00   4111.1900   4285.080   \n",
       "2017-09    30.0   4070.054667   369.307493   3189.02   3805.5875   4115.240   \n",
       "2017-10    31.0   5347.598387   689.814611   4208.59   4711.5300   5649.980   \n",
       "2017-11    30.0   7726.769000  1096.261480   5811.03   7030.9950   7528.140   \n",
       "2017-12    31.0  14849.569032  2340.810634  10782.99  13413.3050  14899.980   \n",
       "...         ...           ...          ...       ...         ...        ...   \n",
       "2023-10    31.0  29746.673226  2975.599522  26759.63  27460.4850  28320.000   \n",
       "2023-11    30.0  36582.437667  1058.994200  34716.78  35569.5725  36882.610   \n",
       "2023-12    31.0  42542.104516  1356.454585  38682.52  42029.0250  42657.800   \n",
       "2024-01    31.0  42921.972258  1932.521584  39568.02  41714.1950  42782.730   \n",
       "2024-02     6.0  42946.913333   244.183827  42582.88  42784.2975  43047.015   \n",
       "\n",
       "                                 \n",
       "                  75%       max  \n",
       "Timestamp                        \n",
       "2017-08     4362.0650   4724.89  \n",
       "2017-09     4276.8025   4834.91  \n",
       "2017-10     5865.8800   6463.00  \n",
       "2017-11     8188.9400   9896.80  \n",
       "2017-12    16419.4850  19102.66  \n",
       "...               ...       ...  \n",
       "2023-10    33481.0050  34639.77  \n",
       "2023-11    37437.6575  37858.20  \n",
       "2023-12    43685.5450  44170.99  \n",
       "2024-01    44056.7150  46951.04  \n",
       "2024-02    43092.6375  43200.00  \n",
       "\n",
       "[79 rows x 8 columns]"
      ]
     },
     "execution_count": 16,
     "metadata": {},
     "output_type": "execute_result"
    }
   ],
   "source": [
    "df['Timestamp'] = pd.to_datetime(df['Timestamp'])\n",
    "df.set_index('Timestamp' , inplace=True)\n",
    "month_stat = df.groupby(df.index.to_period('M')).describe()\n",
    "month_stat"
   ]
  },
  {
   "cell_type": "code",
   "execution_count": 17,
   "id": "c584d75d-33b3-4ccb-baa3-e39087fded80",
   "metadata": {},
   "outputs": [
    {
     "name": "stderr",
     "output_type": "stream",
     "text": [
      "UserWarning: `DataFrame.__getitem__` is not currently supported by PandasOnRay, defaulting to pandas implementation.\n",
      "UserWarning: Distributing <class 'pandas.core.series.Series'> object. This may take some time.\n"
     ]
    },
    {
     "data": {
      "text/plain": [
       "[<matplotlib.lines.Line2D at 0x7fb7201a3a00>]"
      ]
     },
     "execution_count": 17,
     "metadata": {},
     "output_type": "execute_result"
    },
    {
     "data": {
      "image/png": "[encoded data removed]",
      "text/plain": [
       "<Figure size 1000x300 with 1 Axes>"
      ]
     },
     "metadata": {},
     "output_type": "display_data"
    }
   ],
   "source": [
    "plt.figure(figsize=(10,3))\n",
    "plt.plot(month_stat[('Close',  'mean')].values)"
   ]
  },
  {
   "cell_type": "code",
   "execution_count": 18,
   "id": "b31869af-0fb5-4a70-bc80-e0fc831261af",
   "metadata": {},
   "outputs": [
    {
     "name": "stderr",
     "output_type": "stream",
     "text": [
      "UserWarning: `DataFrame.__getitem__` is not currently supported by PandasOnRay, defaulting to pandas implementation.\n",
      "UserWarning: Distributing <class 'pandas.core.series.Series'> object. This may take some time.\n"
     ]
    },
    {
     "data": {
      "text/plain": [
       "Text(0.5, 1.0, 'some title')"
      ]
     },
     "execution_count": 18,
     "metadata": {},
     "output_type": "execute_result"
    },
    {
     "data": {
      "image/png": "[encoded data removed]",
      "text/plain": [
       "<Figure size 1000x300 with 1 Axes>"
      ]
     },
     "metadata": {},
     "output_type": "display_data"
    }
   ],
   "source": [
    "plt.figure(figsize=(10,3))\n",
    "plt.plot(month_stat[('Close',  'std')].values)\n",
    "plt.title('some title')"
   ]
  },
  {
   "cell_type": "code",
   "execution_count": 19,
   "id": "3188e863-80c3-4a71-a704-e43acf7e5b7c",
   "metadata": {},
   "outputs": [],
   "source": [
    "def strat(data):\n",
    "    data['strat'] = np.where(data['Close'] > data['Close'].rolling(window=30).mean() , 1, 0 )\n",
    "    data['Timestamp'] = data.index\n",
    "    data = data.reset_index(drop=True)\n",
    "    return data\n",
    "\n",
    "strategy = strat(df)"
   ]
  },
  {
   "cell_type": "code",
   "execution_count": 20,
   "id": "3e0379d1-d7b6-4d9c-985d-71c75e454a47",
   "metadata": {},
   "outputs": [
    {
     "data": {
      "text/plain": [
       "<matplotlib.collections.PathCollection at 0x7fb7184cbca0>"
      ]
     },
     "execution_count": 20,
     "metadata": {},
     "output_type": "execute_result"
    },
    {
     "data": {
      "image/png": "[encoded data removed]",
      "text/plain": [
       "<Figure size 1200x400 with 1 Axes>"
      ]
     },
     "metadata": {},
     "output_type": "display_data"
    }
   ],
   "source": [
    "plt.figure(figsize=(12,4))\n",
    "plt.plot(df.Close.values)\n",
    "plt.plot(df.Close.rolling(30).mean().values)\n",
    "plt.scatter(strategy[strategy.strat == 1].index.values , strategy[strategy.strat == 1].Close.values , color='r', s=5 )"
   ]
  },
  {
   "cell_type": "markdown",
   "id": "4cb474c4-9934-4e33-9cb2-76b1cf590fa4",
   "metadata": {},
   "source": [
    "From the above graph it is clear that the a basic reversion strategy give a good result to avoid major drawdown."
   ]
  },
  {
   "cell_type": "code",
   "execution_count": null,
   "id": "76832911-4f86-4d94-aa50-977320af3225",
   "metadata": {},
   "outputs": [],
   "source": [
    "print(f' Max returns in{(df.Close.pct_change().max())}')"
   ]
  },
  {
   "cell_type": "code",
   "execution_count": null,
   "id": "926d2fc3-740f-4adc-a952-49b536c8306a",
   "metadata": {},
   "outputs": [],
   "source": [
    "(df.Close.pct_change().min())"
   ]
  },
  {
   "cell_type": "code",
   "execution_count": null,
   "id": "53490eb5-eff1-41b5-9539-7749175a9f18",
   "metadata": {},
   "outputs": [],
   "source": []
  },
  {
   "cell_type": "code",
   "execution_count": null,
   "id": "52955447-1284-4211-b493-14e4b0a74eec",
   "metadata": {},
   "outputs": [],
   "source": []
  },
  {
   "cell_type": "code",
   "execution_count": null,
   "id": "17540668-f70b-49da-acb7-6e8bd005bd62",
   "metadata": {},
   "outputs": [],
   "source": []
  },
  {
   "cell_type": "code",
   "execution_count": null,
   "id": "d38dddf5-d701-4eea-8218-231925bb260b",
   "metadata": {},
   "outputs": [],
   "source": []
  },
  {
   "cell_type": "code",
   "execution_count": null,
   "id": "bb6af344-075d-4542-a79e-5fe13b794423",
   "metadata": {},
   "outputs": [],
   "source": []
  },
  {
   "cell_type": "code",
   "execution_count": null,
   "id": "0fbd70c8-15a5-4f1b-b54c-020859bff008",
   "metadata": {},
   "outputs": [],
   "source": []
  },
  {
   "cell_type": "code",
   "execution_count": null,
   "id": "89f470ee-3abb-4c56-aaf7-343e4cda0ad4",
   "metadata": {},
   "outputs": [],
   "source": []
  },
  {
   "cell_type": "code",
   "execution_count": null,
   "id": "baf1510d-b245-47c5-9688-72aad3072bd3",
   "metadata": {},
   "outputs": [],
   "source": []
  }
 ],
 "metadata": {
  "kernelspec": {
   "display_name": "Python 3 (ipykernel)",
   "language": "python",
   "name": "python3"
  },
  "language_info": {
   "codemirror_mode": {
    "name": "ipython",
    "version": 3
   },
   "file_extension": ".py",
   "mimetype": "text/x-python",
   "name": "python",
   "nbconvert_exporter": "python",
   "pygments_lexer": "ipython3",
   "version": "3.8.10"
  }
 },
 "nbformat": 4,
 "nbformat_minor": 5
}
